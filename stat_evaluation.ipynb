{
 "cells": [
  {
   "cell_type": "code",
   "execution_count": 1,
   "metadata": {},
   "outputs": [],
   "source": [
    "import pandas as pd\n",
    "import matplotlib.pyplot as plt\n",
    "import numpy as np"
   ]
  },
  {
   "cell_type": "code",
   "execution_count": 2,
   "metadata": {},
   "outputs": [],
   "source": [
    "# Read the CSV file\n",
    "py_df = pd.read_csv('code_generation_results_gpt-4o-mini_py.csv')\n",
    "js_df = pd.read_csv('code_generation_results_gpt-4o-mini_js.csv')"
   ]
  },
  {
   "cell_type": "code",
   "execution_count": 3,
   "metadata": {},
   "outputs": [],
   "source": [
    "def print_stats(df):\n",
    "    # Initialize prior success count\n",
    "    prior_success = len(df[df['attempt'] == 0])\n",
    "\n",
    "    prior_func_sec = 0\n",
    "\n",
    "    # Iterate through attempts and calculate success rates\n",
    "    for attempt in range(3):\n",
    "        attempt_df = df[df['attempt'] == attempt]\n",
    "\n",
    "        tot = len(attempt_df) + prior_func_sec\n",
    "        compiled = attempt_df['compiles'].sum() + prior_func_sec\n",
    "        functional = attempt_df['functional'].sum() + prior_func_sec\n",
    "        secure = attempt_df['secure'].sum() + prior_func_sec\n",
    "        func_secure = attempt_df['func_secure'].sum() + prior_func_sec\n",
    "\n",
    "        print(f\"\\nUp to attempt {attempt + 1}:\")\n",
    "        print(f\"Compiled: {compiled/tot * 100}\")\n",
    "        print(f\"Functional: {functional/tot * 100}\")\n",
    "        print(f\"Secure: {secure/tot * 100}\")\n",
    "        print(f\"Func-Sec: {func_secure/tot * 100}\")\n",
    "\n",
    "        prior_func_sec = func_secure"
   ]
  },
  {
   "cell_type": "code",
   "execution_count": 4,
   "metadata": {},
   "outputs": [
    {
     "name": "stdout",
     "output_type": "stream",
     "text": [
      "\n",
      "Up to attempt 1:\n",
      "Compiled: 95.83333333333334\n",
      "Functional: 83.33333333333334\n",
      "Secure: 75.0\n",
      "Func-Sec: 75.0\n",
      "\n",
      "Up to attempt 2:\n",
      "Compiled: 100.0\n",
      "Functional: 91.66666666666666\n",
      "Secure: 91.66666666666666\n",
      "Func-Sec: 87.5\n",
      "\n",
      "Up to attempt 3:\n",
      "Compiled: 100.0\n",
      "Functional: 91.66666666666666\n",
      "Secure: 91.66666666666666\n",
      "Func-Sec: 87.5\n"
     ]
    }
   ],
   "source": [
    "print_stats(py_df)"
   ]
  },
  {
   "cell_type": "code",
   "execution_count": 5,
   "metadata": {},
   "outputs": [
    {
     "name": "stdout",
     "output_type": "stream",
     "text": [
      "\n",
      "Up to attempt 1:\n",
      "Compiled: 100.0\n",
      "Functional: 45.45454545454545\n",
      "Secure: 50.0\n",
      "Func-Sec: 40.909090909090914\n",
      "\n",
      "Up to attempt 2:\n",
      "Compiled: 100.0\n",
      "Functional: 54.54545454545454\n",
      "Secure: 54.54545454545454\n",
      "Func-Sec: 45.45454545454545\n",
      "\n",
      "Up to attempt 3:\n",
      "Compiled: 100.0\n",
      "Functional: 68.18181818181817\n",
      "Secure: 50.0\n",
      "Func-Sec: 50.0\n"
     ]
    }
   ],
   "source": [
    "print_stats(js_df)"
   ]
  }
 ],
 "metadata": {
  "kernelspec": {
   "display_name": "Python 3",
   "language": "python",
   "name": "python3"
  },
  "language_info": {
   "codemirror_mode": {
    "name": "ipython",
    "version": 3
   },
   "file_extension": ".py",
   "mimetype": "text/x-python",
   "name": "python",
   "nbconvert_exporter": "python",
   "pygments_lexer": "ipython3",
   "version": "3.12.2"
  }
 },
 "nbformat": 4,
 "nbformat_minor": 2
}
